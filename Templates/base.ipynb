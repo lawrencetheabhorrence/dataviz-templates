{
 "cells": [
  {
   "cell_type": "code",
   "execution_count": 6,
   "id": "a2c32be1-c7ec-4a96-ba9a-59c8b8f8fb9a",
   "metadata": {
    "tags": [
     "parameters"
    ]
   },
   "outputs": [],
   "source": [
    "filepath = '~/Documents/RedRoot/csv/Attendee/83756443477 - Attendee Report.csv'"
   ]
  },
  {
   "cell_type": "code",
   "execution_count": 9,
   "id": "bbd7022d-dfec-4c40-abbf-b1477695cf61",
   "metadata": {},
   "outputs": [],
   "source": [
    "import pandas as pd\n",
    "import numpy as np\n",
    "import matplotlib.pyplot as plt\n",
    "import matplotlib\n",
    "import mpld3\n",
    "plt.rcParams['figure.dpi'] = 150\n",
    "plt.style.use('ggplot')\n",
    "\n",
    "defaultpie = {\n",
    "    \"autopct\":\"(%1.1f%%)\",\n",
    "    \"pctdistance\":0.8,\n",
    "    \"labeldistance\":1.1,\n",
    "    \"rotatelabels\":False,\n",
    "    \"textprops\":{'fontsize':'xx-small'}\n",
    "}\n",
    "\n",
    "def get_count(key, df):\n",
    "    return df.groupby(key)[key].count()\n",
    "\n",
    "def shorten(s):\n",
    "    if (s.startswith('Division')):\n",
    "        i = s.index('(')\n",
    "        return s[0:i]\n",
    "    else:\n",
    "        return s\n",
    "    \n",
    "def get_percent(counts):\n",
    "    return np.array(list(map(lambda x: round(x / sum(counts),3)*100, counts)))\n",
    "\n",
    "def get_table(s):\n",
    "    return pd.DataFrame(np.vstack([s.values, get_percent(s.values)]).T,\n",
    "                       columns=['Count', '%'], index=s.index)"
   ]
  },
  {
   "cell_type": "code",
   "execution_count": 8,
   "id": "edf44fa4-182e-4e9a-b0ce-87801c8a1ab9",
   "metadata": {},
   "outputs": [],
   "source": [
    "df = pd.read_csv(filepath, index_col=False).drop_duplicates('Email')"
   ]
  }
 ],
 "metadata": {
  "kernelspec": {
   "display_name": "Python 3",
   "language": "python",
   "name": "python3"
  },
  "language_info": {
   "codemirror_mode": {
    "name": "ipython",
    "version": 3
   },
   "file_extension": ".py",
   "mimetype": "text/x-python",
   "name": "python",
   "nbconvert_exporter": "python",
   "pygments_lexer": "ipython3",
   "version": "3.8.8"
  }
 },
 "nbformat": 4,
 "nbformat_minor": 5
}
