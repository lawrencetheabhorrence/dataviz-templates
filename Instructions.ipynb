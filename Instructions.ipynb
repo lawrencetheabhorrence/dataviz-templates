{
 "cells": [
  {
   "cell_type": "markdown",
   "id": "da62ccd0-3e22-4e00-9368-75e6f2284c28",
   "metadata": {},
   "source": [
    "# Installing dependencies\n",
    "To generate graphs, we will use Python and Jupyter Notebooks to make them. Install Python from the Python website, https://www.python.org/."
   ]
  },
  {
   "cell_type": "markdown",
   "id": "3a914c99-a6b3-496c-b64f-0b8d0dea2905",
   "metadata": {},
   "source": [
    "Install the following dependencies by running the following commands in your terminal:"
   ]
  },
  {
   "cell_type": "markdown",
   "id": "90f2d4df-815d-452e-b2a1-3c863304c5a1",
   "metadata": {},
   "source": [
    "`pip install matplotlib`"
   ]
  },
  {
   "cell_type": "markdown",
   "id": "f2e80d0b-c72e-445f-a00b-257b8e99cc29",
   "metadata": {},
   "source": [
    "`pip install pandas`"
   ]
  },
  {
   "cell_type": "markdown",
   "id": "9d03d468-dec8-4571-bffc-7247fce35e2e",
   "metadata": {},
   "source": [
    "`pip install jupyterlab`"
   ]
  },
  {
   "cell_type": "markdown",
   "id": "d3fec20b-6cb6-423d-ae96-0640c817f43f",
   "metadata": {},
   "source": [
    "`pip install pyppeteer`"
   ]
  },
  {
   "cell_type": "markdown",
   "id": "cabc3ad7-1eb8-44de-a446-f3ff3c1c3f82",
   "metadata": {},
   "source": [
    "# Cleaning your data\n",
    "To be able to have Python read your csvs', we need to clean the data first. In the Attendee Report, delete all line from the beginning to the line that says 'Attendee Details' (including the line with 'Attendee Details'!). Now we can start."
   ]
  },
  {
   "cell_type": "markdown",
   "id": "aea22f74-ae90-4841-87ed-0c5d1ebd1b46",
   "metadata": {},
   "source": [
    "# Using the Notebook Templates\n",
    "If you are using `attend.ipynb`, `nonmembers.ipynb`, and `members.ipynb`, skip this section and change the `filepath` variable on the first line of the notebook to the filepath of the attendee report csv.\n",
    "\n",
    "Copy the `base.ipynb` notebook and name it to something like `mynotebook.ipynb` (we will use this filename for the rest of the commands). Open the `mynotebook.ipynb` notebook in Jupyter Lab by running the command"
   ]
  },
  {
   "cell_type": "markdown",
   "id": "a38902eb-d326-4f46-90f0-edd1bad80cd4",
   "metadata": {},
   "source": [
    "`jupyter-lab mynotebook.ipynb`"
   ]
  },
  {
   "cell_type": "markdown",
   "id": "ed0ad762-2948-4297-ab97-d3c386031501",
   "metadata": {},
   "source": [
    "The notebook already has a bunch of helper commands to make generating graphs easier. Notice that code are squared off into seperate blocks. These blocks are called \"cells\". Change the `filepath` variable in the first cell to the path of the Attendee Details csv."
   ]
  },
  {
   "cell_type": "markdown",
   "id": "f7877732-d835-4bd0-b990-00a8e5dd5ffa",
   "metadata": {},
   "source": [
    "## Filtering by Membership, Attendance, etc.\n",
    "The third cell with:\n",
    "```\n",
    "df = pd.read_csv(filepath, index_col=False).drop_duplicates('Email')\n",
    "```\n",
    "Does three things:\n",
    "\n",
    "    1. It reads our csv into a DataFrame that holds our data.\n",
    "    2. The index_col value says \"Dont make the first column of the csv our index\"\n",
    "    3. And drops all rows with duplicate values in the 'Email' column.\n",
    "    \n",
    "We can manipulate this DataFrame by filtering out rows based on values in the column for example:\n",
    "```\n",
    "df = df[df['NRCP Membership'] != 'Non-Member']\n",
    "df = df[df['Attended'] == 'Yes']\n",
    "```\n",
    "Filters out rows where: 1. the NRCP Membership column has the value \"Non-Member\" 2. The person did not attend the meeting"
   ]
  },
  {
   "cell_type": "markdown",
   "id": "9b15841c-bcfa-47fa-ba8d-617030713827",
   "metadata": {},
   "source": [
    "## Getting the count and percentage of a value/column in a table\n",
    "You can do this by creating a new cell by pressing the \"+\" button and typing this:\n",
    "```\n",
    "column = get_count(column, df) # df is from the third cell/part of the template\n",
    "get_table(column)\n",
    "```\n",
    "Jupyter automatically shows the output of a function when it is not an assignment (\"=\" operator is involved like the first line)"
   ]
  },
  {
   "cell_type": "markdown",
   "id": "e598c940-44ea-44e5-b8cf-73cb17197106",
   "metadata": {},
   "source": [
    "## Graphing a plot\n",
    "Make a new cell and either write:\n",
    "```\n",
    "column.plot.pie(**defaultpie)\n",
    "plt.show()\n",
    "```\n",
    "or\n",
    "```\n",
    "column.plot.bar()\n",
    "plt.show()\n",
    "```"
   ]
  },
  {
   "cell_type": "markdown",
   "id": "27a71a62-6799-4cac-9d38-24512b27f23e",
   "metadata": {},
   "source": [
    "# Converting a notebook to pdf\n",
    "In the terminal run:\n",
    "```\n",
    "jupyter nbconvert mynotebook.ipynb --to webpdf --no-input --allow-chromium-download\n",
    "```\n",
    "A pdf named `mynotebook.pdf` will be created"
   ]
  }
 ],
 "metadata": {
  "kernelspec": {
   "display_name": "Python 3",
   "language": "python",
   "name": "python3"
  },
  "language_info": {
   "codemirror_mode": {
    "name": "ipython",
    "version": 3
   },
   "file_extension": ".py",
   "mimetype": "text/x-python",
   "name": "python",
   "nbconvert_exporter": "python",
   "pygments_lexer": "ipython3",
   "version": "3.8.8"
  }
 },
 "nbformat": 4,
 "nbformat_minor": 5
}
